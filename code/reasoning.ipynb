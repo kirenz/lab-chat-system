{
    "cells": [
        {
            "cell_type": "markdown",
            "metadata": {},
            "source": [
                "# Chain of Thought Reasoning\n",
                "\n",
                "Chain-of-thought (CoT) prompting enables complex reasoning capabilities through intermediate reasoning steps. \n",
                "\n",
                "You can combine it with few-shot prompting to get better results on more complex tasks that require reasoning before responding.\n",
                "\n",
                "# Setup\n",
                "\n",
                "## Python"
            ]
        },
        {
            "cell_type": "code",
            "metadata": {},
            "source": [
                "import os\n",
                "import openai\n",
                "import sys\n",
                "from dotenv import load_dotenv, find_dotenv\n",
                "_ = load_dotenv(find_dotenv())\n",
                "\n",
                "openai.api_key = os.environ['OPENAI_API_KEY']"
            ],
            "execution_count": null,
            "outputs": []
        },
        {
            "cell_type": "markdown",
            "metadata": {},
            "source": [
                "## Helper function"
            ]
        },
        {
            "cell_type": "code",
            "metadata": {},
            "source": [
                "def get_completion_from_messages(messages,\n",
                "                                 model=\"gpt-3.5-turbo\",\n",
                "                                 temperature=0, max_tokens=500):\n",
                "    response = openai.ChatCompletion.create(\n",
                "        model=model,\n",
                "        messages=messages,\n",
                "        temperature=temperature,\n",
                "        max_tokens=max_tokens,\n",
                "    )\n",
                "    return response.choices[0].message[\"content\"]\n"
            ],
            "execution_count": null,
            "outputs": []
        },
        {
            "cell_type": "markdown",
            "metadata": {},
            "source": [
                "# Chain-of-Thought Prompting 1\n",
                "\n",
                "## System message {.smaller}\n"
            ]
        },
        {
            "cell_type": "code",
            "metadata": {},
            "source": [
                "delimiter = \"##\"\n",
                "\n",
                "system_message = f\"\"\"\n",
                "Follow these steps to answer the customer queries.\n",
                "The customer query will be delimited with four hashtags,\\\n",
                "i.e. {delimiter}. \n",
                "\n",
                "Step 1: {delimiter} First decide whether the user is \\\n",
                "asking a question about a specific product or products. \\\n",
                "Product cateogry doesn't count. \n",
                "\n",
                "Step 2: {delimiter} If the user is asking about \\\n",
                "specific products, identify whether \\\n",
                "the products are in the following list.\n",
                "All available products: \n",
                "1. Product: TechPro Ultrabook\n",
                "   Category: Computers and Laptops\n",
                "   Brand: TechPro\n",
                "   Model Number: TP-UB100\n",
                "   Warranty: 1 year\n",
                "   Rating: 4.5\n",
                "   Features: 13.3-inch display, 8GB RAM, 256GB SSD, Intel Core i5 processor\n",
                "   Description: A sleek and lightweight ultrabook for everyday use.\n",
                "   Price: $799.99\n",
                "\n",
                "2. Product: BlueWave Gaming Laptop\n",
                "   Category: Computers and Laptops\n",
                "   Brand: BlueWave\n",
                "   Model Number: BW-GL200\n",
                "   Warranty: 2 years\n",
                "   Rating: 4.7\n",
                "   Features: 15.6-inch display, 16GB RAM, 512GB SSD, NVIDIA GeForce RTX 3060\n",
                "   Description: A high-performance gaming laptop for an immersive experience.\n",
                "   Price: $1199.99\n",
                "\n",
                "3. Product: PowerLite Convertible\n",
                "   Category: Computers and Laptops\n",
                "   Brand: PowerLite\n",
                "   Model Number: PL-CV300\n",
                "   Warranty: 1 year\n",
                "   Rating: 4.3\n",
                "   Features: 14-inch touchscreen, 8GB RAM, 256GB SSD, 360-degree hinge\n",
                "   Description: A versatile convertible laptop with a responsive touchscreen.\n",
                "   Price: $699.99\n",
                "\n",
                "4. Product: TechPro Desktop\n",
                "   Category: Computers and Laptops\n",
                "   Brand: TechPro\n",
                "   Model Number: TP-DT500\n",
                "   Warranty: 1 year\n",
                "   Rating: 4.4\n",
                "   Features: Intel Core i7 processor, 16GB RAM, 1TB HDD, NVIDIA GeForce GTX 1660\n",
                "   Description: A powerful desktop computer for work and play.\n",
                "   Price: $999.99\n",
                "\n",
                "5. Product: BlueWave Chromebook\n",
                "   Category: Computers and Laptops\n",
                "   Brand: BlueWave\n",
                "   Model Number: BW-CB100\n",
                "   Warranty: 1 year\n",
                "   Rating: 4.1\n",
                "   Features: 11.6-inch display, 4GB RAM, 32GB eMMC, Chrome OS\n",
                "   Description: A compact and affordable Chromebook for everyday tasks.\n",
                "   Price: $249.99\n",
                "\n",
                "Step 3: {delimiter} If the message contains products \\\n",
                "in the list above, list any assumptions that the \\\n",
                "user is making in their \\\n",
                "message e.g. that Laptop X is bigger than \\\n",
                "Laptop Y, or that Laptop Z has a 2 year warranty.\n",
                "\n",
                "Step 4: {delimiter}: If the user made any assumptions, \\\n",
                "figure out whether the assumption is true based on your \\\n",
                "product information. \n",
                "\n",
                "Step 5: {delimiter}: First, politely correct the \\\n",
                "customer's incorrect assumptions if applicable. \\\n",
                "Only mention or reference products in the list of \\\n",
                "5 available products, as these are the only 5 \\\n",
                "products that the store sells. \\\n",
                "Answer the customer in a friendly tone.\n",
                "\n",
                "Use the following format:\n",
                "Step 1: {delimiter} <step 1 reasoning>\n",
                "Step 2: {delimiter} <step 2 reasoning>\n",
                "Step 3: {delimiter} <step 3 reasoning>\n",
                "Step 4: {delimiter} <step 4 reasoning>\n",
                "Response to user: {delimiter} <response to customer>\n",
                "\n",
                "Make sure to include {delimiter} to separate every step. \n",
                "\n",
                "\"\"\""
            ],
            "execution_count": null,
            "outputs": []
        },
        {
            "cell_type": "markdown",
            "metadata": {},
            "source": [
                "## User message\n"
            ]
        },
        {
            "cell_type": "code",
            "metadata": {},
            "source": [
                "user_message = f\"\"\"\n",
                "by how much is the BlueWave Chromebook more expensive \\\n",
                "than the TechPro Desktop\"\"\""
            ],
            "execution_count": null,
            "outputs": []
        },
        {
            "cell_type": "markdown",
            "metadata": {},
            "source": [
                ""
            ]
        },
        {
            "cell_type": "code",
            "metadata": {},
            "source": [
                "messages = [\n",
                "    {'role': 'system',\n",
                "     'content': system_message},\n",
                "    {'role': 'user',\n",
                "     'content': f\"{delimiter}{user_message}{delimiter}\"},\n",
                "]"
            ],
            "execution_count": null,
            "outputs": []
        },
        {
            "cell_type": "markdown",
            "metadata": {},
            "source": [
                "## Response {.smaller}\n"
            ]
        },
        {
            "cell_type": "code",
            "metadata": {},
            "source": [
                "response = get_completion_from_messages(messages)\n",
                "print(response)"
            ],
            "execution_count": null,
            "outputs": []
        },
        {
            "cell_type": "markdown",
            "metadata": {},
            "source": [
                "Step 1: ## The user is asking about the price difference between the BlueWave Chromebook and the TechPro Desktop.\n",
                "\n",
                "Step 2: ## Both the BlueWave Chromebook and the TechPro Desktop are available products.\n",
                "\n",
                "Step 3: ## The user assumes that the BlueWave Chromebook is more expensive than the TechPro Desktop.\n",
                "\n",
                "Step 4: ## The assumption is incorrect. The TechPro Desktop is priced at $999.99, while the BlueWave Chromebook is priced at $249.99. Therefore, the BlueWave Chromebook is actually less expensive than the TechPro Desktop.\n",
                "\n",
                "Response to user: ## The BlueWave Chromebook is actually less expensive than the TechPro Desktop. The BlueWave Chromebook is priced at $249.99, while the TechPro Desktop is priced at $999.99. Let me know if there's anything else I can assist you with\n",
                "\n",
                "# Chain-of-Thought Prompting 2\n",
                "\n",
                "## User message\n"
            ]
        },
        {
            "cell_type": "code",
            "metadata": {},
            "source": [
                "user_message = f\"\"\"do you sell tvs\"\"\""
            ],
            "execution_count": null,
            "outputs": []
        },
        {
            "cell_type": "markdown",
            "metadata": {},
            "source": [
                ""
            ]
        },
        {
            "cell_type": "code",
            "metadata": {},
            "source": [
                "messages = [\n",
                "    {'role': 'system',\n",
                "     'content': system_message},\n",
                "    {'role': 'user',\n",
                "     'content': f\"{delimiter}{user_message}{delimiter}\"},\n",
                "]"
            ],
            "execution_count": null,
            "outputs": []
        },
        {
            "cell_type": "markdown",
            "metadata": {},
            "source": [
                "## Response"
            ]
        },
        {
            "cell_type": "code",
            "metadata": {},
            "source": [
                "response = get_completion_from_messages(messages)\n",
                "print(response)"
            ],
            "execution_count": null,
            "outputs": []
        },
        {
            "cell_type": "markdown",
            "metadata": {},
            "source": [
                "- Step 1:## The user is asking if the store sells TVs. This is a question about a specific product category, not a specific product.\n",
                "\n",
                "## Inner Monologue\n",
                "\n",
                "- Since we asked the LLM to separate its reasoning steps by a delimiter, we can hide the chain-of-thought reasoning from the final output that the user sees."
            ]
        },
        {
            "cell_type": "code",
            "metadata": {},
            "source": [
                "try:\n",
                "    final_response = response.split(delimiter)[-1].strip()\n",
                "except Exception as e:\n",
                "    final_response = \"Sorry, I'm having trouble right now, please try asking another question.\"\n",
                "\n",
                "print(final_response)"
            ],
            "execution_count": null,
            "outputs": []
        }
    ],
    "metadata": {
        "kernelspec": {
            "name": "python3",
            "language": "python",
            "display_name": "Python 3 (ipykernel)"
        }
    },
    "nbformat": 4,
    "nbformat_minor": 4
}