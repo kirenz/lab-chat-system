{
    "cells": [
        {
            "cell_type": "markdown",
            "metadata": {},
            "source": [
                "# Classification of Customer queries\n",
                "\n",
                "Learn how to classify different customer queries\n",
                "\n",
                "\n",
                "# Setup\n",
                "\n",
                "## Python\n"
            ]
        },
        {
            "cell_type": "code",
            "metadata": {},
            "source": [
                "import os\n",
                "import openai\n",
                "from dotenv import load_dotenv, find_dotenv\n",
                "_ = load_dotenv(find_dotenv())  \n",
                "\n",
                "openai.api_key = os.environ['OPENAI_API_KEY']"
            ],
            "execution_count": null,
            "outputs": []
        },
        {
            "cell_type": "markdown",
            "metadata": {},
            "source": [
                "## Helper function"
            ]
        },
        {
            "cell_type": "code",
            "metadata": {},
            "source": [
                "def get_completion_from_messages(messages,\n",
                "                                 model=\"gpt-3.5-turbo\",\n",
                "                                 temperature=0,\n",
                "                                 max_tokens=500):\n",
                "    response = openai.ChatCompletion.create(\n",
                "        model=model,\n",
                "        messages=messages,\n",
                "        temperature=temperature,\n",
                "        max_tokens=max_tokens,\n",
                "    )\n",
                "    return response.choices[0].message[\"content\"]\n"
            ],
            "execution_count": null,
            "outputs": []
        },
        {
            "cell_type": "markdown",
            "metadata": {},
            "source": [
                "# System message {.smaller}\n"
            ]
        },
        {
            "cell_type": "code",
            "metadata": {},
            "source": [
                "delimiter = \"####\"\n",
                "\n",
                "system_message = f\"\"\"\n",
                "You will be provided with customer service queries. \\\n",
                "The customer service query will be delimited with \\\n",
                "{delimiter} characters.\n",
                "Classify each query into a primary category \\\n",
                "and a secondary category. \n",
                "Provide your output in json format with the \\\n",
                "keys: primary and secondary.\n",
                "\n",
                "Primary categories: Billing, Technical Support, \\\n",
                "Account Management, or General Inquiry.\n",
                "\n",
                "Billing secondary categories:\n",
                "Unsubscribe or upgrade\n",
                "Add a payment method\n",
                "Explanation for charge\n",
                "Dispute a charge\n",
                "\n",
                "Technical Support secondary categories:\n",
                "General troubleshooting\n",
                "Device compatibility\n",
                "Software updates\n",
                "\n",
                "Account Management secondary categories:\n",
                "Password reset\n",
                "Update personal information\n",
                "Close account\n",
                "Account security\n",
                "\n",
                "General Inquiry secondary categories:\n",
                "Product information\n",
                "Pricing\n",
                "Feedback\n",
                "Speak to a human\n",
                "\n",
                "\"\"\""
            ],
            "execution_count": null,
            "outputs": []
        },
        {
            "cell_type": "markdown",
            "metadata": {},
            "source": [
                "# User message 1"
            ]
        },
        {
            "cell_type": "code",
            "metadata": {},
            "source": [
                "user_message = f\"\"\"\\\n",
                "I want you to delete my profile and all of my user data\"\"\"\n",
                "messages = [\n",
                "    {'role': 'system',\n",
                "     'content': system_message},\n",
                "    {'role': 'user',\n",
                "     'content': f\"{delimiter}{user_message}{delimiter}\"},\n",
                "]"
            ],
            "execution_count": null,
            "outputs": []
        },
        {
            "cell_type": "markdown",
            "metadata": {},
            "source": [
                "## Output"
            ]
        },
        {
            "cell_type": "code",
            "metadata": {},
            "source": [
                "response = get_completion_from_messages(messages)\n",
                "print(response)"
            ],
            "execution_count": null,
            "outputs": []
        },
        {
            "cell_type": "markdown",
            "metadata": {},
            "source": [
                "- Output: {\"primary\": \"Account Management\", \"secondary\": \"Close account\"}\n",
                "\n",
                "# User message 2\n"
            ]
        },
        {
            "cell_type": "code",
            "metadata": {},
            "source": [
                "user_message = f\"\"\"\\\n",
                "Tell me more about your flat screen tvs\"\"\"\n",
                "messages = [\n",
                "    {'role': 'system',\n",
                "     'content': system_message},\n",
                "    {'role': 'user',\n",
                "     'content': f\"{delimiter}{user_message}{delimiter}\"},\n",
                "]"
            ],
            "execution_count": null,
            "outputs": []
        },
        {
            "cell_type": "markdown",
            "metadata": {},
            "source": [
                "## Output"
            ]
        },
        {
            "cell_type": "code",
            "metadata": {},
            "source": [
                "response = get_completion_from_messages(messages)\n",
                "print(response)"
            ],
            "execution_count": null,
            "outputs": []
        }
    ],
    "metadata": {
        "kernelspec": {
            "name": "python3",
            "language": "python",
            "display_name": "Python 3 (ipykernel)"
        }
    },
    "nbformat": 4,
    "nbformat_minor": 4
}