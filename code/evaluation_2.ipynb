{
    "cells": [
        {
            "cell_type": "markdown",
            "metadata": {},
            "source": [
                "# Setup\n",
                "\n",
                "## Python\n"
            ]
        },
        {
            "cell_type": "code",
            "metadata": {},
            "source": [
                "import os\n",
                "import openai\n",
                "# import sys\n",
                "# sys.path.append('../..')\n",
                "import utils\n",
                "from dotenv import load_dotenv, find_dotenv\n",
                "_ = load_dotenv(find_dotenv())  # read local .env file\n",
                "\n",
                "openai.api_key = os.environ['OPENAI_API_KEY']"
            ],
            "execution_count": null,
            "outputs": []
        },
        {
            "cell_type": "markdown",
            "metadata": {},
            "source": [
                "## Helper function"
            ]
        },
        {
            "cell_type": "code",
            "metadata": {},
            "source": [
                "def get_completion_from_messages(messages, model=\"gpt-3.5-turbo\", temperature=0, max_tokens=500):\n",
                "    response = openai.ChatCompletion.create(\n",
                "        model=model,\n",
                "        messages=messages,\n",
                "        temperature=temperature,\n",
                "        max_tokens=max_tokens,\n",
                "    )\n",
                "    return response.choices[0].message[\"content\"]\n"
            ],
            "execution_count": null,
            "outputs": []
        },
        {
            "cell_type": "markdown",
            "metadata": {},
            "source": [
                "# End-to-End System\n",
                "\n",
                "Run through the end-to-end system to answer the user query\n",
                "\n",
                "## Customer message\n"
            ]
        },
        {
            "cell_type": "code",
            "metadata": {},
            "source": [
                "customer_msg = f\"\"\"\n",
                "tell me about the smartx pro phone and the fotosnap camera, the dslr one.\n",
                "Also, what TVs or TV related products do you have?\"\"\""
            ],
            "execution_count": null,
            "outputs": []
        },
        {
            "cell_type": "markdown",
            "metadata": {},
            "source": [
                "## Lists of products and categories {.smaller}"
            ]
        },
        {
            "cell_type": "code",
            "metadata": {},
            "source": [
                "products_by_category = [{'category': 'Smartphones and Accessories', 'products': ['SmartX ProPhone']}, {\n",
                "    'category': 'Cameras and Camcorders', 'products': ['FotoSnap DSLR Camera']}, {'category': 'Televisions and Home Theater Systems'}]"
            ],
            "execution_count": null,
            "outputs": []
        },
        {
            "cell_type": "code",
            "metadata": {},
            "source": [
                "category_and_product_list = [{'category': 'Smartphones and Accessories', 'products': ['SmartX ProPhone']},\n",
                "                             {'category': 'Cameras and Camcorders',\n",
                "                                 'products': ['FotoSnap DSLR Camera']},\n",
                "                             {'category': 'Televisions and Home Theater Systems'}]"
            ],
            "execution_count": null,
            "outputs": []
        },
        {
            "cell_type": "markdown",
            "metadata": {},
            "source": [
                "## Product info {.smaller}"
            ]
        },
        {
            "cell_type": "code",
            "metadata": {},
            "source": [
                "product_info = [{'name': 'SmartX ProPhone',\n",
                "                 'category': 'Smartphones and Accessories',\n",
                "                 'brand': 'SmartX',\n",
                "                 'model_number': 'SX-PP10',\n",
                "                 'warranty': '1 year',\n",
                "                 'rating': 4.6,\n",
                "                 'features': ['6.1-inch display', '128GB storage', '12MP dual camera', '5G'],\n",
                "                 'description': 'A powerful smartphone with advanced camera features.',\n",
                "                 'price': 899.99},\n",
                "                {'name': 'FotoSnap DSLR Camera',\n",
                "                 'category': 'Cameras and Camcorders',\n",
                "                 'brand': 'FotoSnap',\n",
                "                 'model_number': 'FS-DSLR200',\n",
                "                 'warranty': '1 year',\n",
                "                 'rating': 4.7,\n",
                "                 'features': ['24.2MP sensor',\n",
                "                              '1080p video',\n",
                "                              '3-inch LCD',\n",
                "                              'Interchangeable lenses'],\n",
                "                 'description': 'Capture stunning photos and videos with this versatile DSLR camera.',\n",
                "                 'price': 599.99},\n",
                "                {'name': 'CineView 4K TV',\n",
                "                 'category': 'Televisions and Home Theater Systems',\n",
                "                 'brand': 'CineView',\n",
                "                 'model_number': 'CV-4K55',\n",
                "                 'warranty': '2 years',\n",
                "                 'rating': 4.8,\n",
                "                 'features': ['55-inch display', '4K resolution', 'HDR', 'Smart TV'],\n",
                "                 'description': 'A stunning 4K TV with vibrant colors and smart features.',\n",
                "                 'price': 599.99},\n",
                "                {'name': 'SoundMax Home Theater',\n",
                "                 'category': 'Televisions and Home Theater Systems',\n",
                "                 'brand': 'SoundMax',\n",
                "                 'model_number': 'SM-HT100',\n",
                "                 'warranty': '1 year',\n",
                "                 'rating': 4.4,\n",
                "                 'features': ['5.1 channel',\n",
                "                              '1000W output',\n",
                "                              'Wireless subwoofer',\n",
                "                              'Bluetooth'],\n",
                "                 'description': 'A powerful home theater system for an immersive audio experience.',\n",
                "                 'price': 399.99},\n",
                "                {'name': 'CineView 8K TV',\n",
                "                 'category': 'Televisions and Home Theater Systems',\n",
                "                 'brand': 'CineView',\n",
                "                 'model_number': 'CV-8K65',\n",
                "                 'warranty': '2 years',\n",
                "                 'rating': 4.9,\n",
                "                 'features': ['65-inch display', '8K resolution', 'HDR', 'Smart TV'],\n",
                "                 'description': 'Experience the future of television with this stunning 8K TV.',\n",
                "                 'price': 2999.99},\n",
                "                {'name': 'SoundMax Soundbar',\n",
                "                 'category': 'Televisions and Home Theater Systems',\n",
                "                 'brand': 'SoundMax',\n",
                "                 'model_number': 'SM-SB50',\n",
                "                 'warranty': '1 year',\n",
                "                 'rating': 4.3,\n",
                "                 'features': ['2.1 channel',\n",
                "                              '300W output',\n",
                "                              'Wireless subwoofer',\n",
                "                              'Bluetooth'],\n",
                "                 'description': \"Upgrade your TV's audio with this sleek and powerful soundbar.\",\n",
                "                 'price': 199.99},\n",
                "                {'name': 'CineView OLED TV',\n",
                "                 'category': 'Televisions and Home Theater Systems',\n",
                "                 'brand': 'CineView',\n",
                "                 'model_number': 'CV-OLED55',\n",
                "                 'warranty': '2 years',\n",
                "                 'rating': 4.7,\n",
                "                 'features': ['55-inch display', '4K resolution', 'HDR', 'Smart TV'],\n",
                "                 'description': 'Experience true blacks and vibrant colors with this OLED TV.',\n",
                "                 'price': 1499.99}]"
            ],
            "execution_count": null,
            "outputs": []
        },
        {
            "cell_type": "markdown",
            "metadata": {},
            "source": [
                "## Answer"
            ]
        },
        {
            "cell_type": "code",
            "metadata": {},
            "source": [
                "assistant_answer = 'Sure! Let me provide you with some information about the SmartX ProPhone and the FotoSnap DSLR Camera.\\n\\nThe SmartX ProPhone is a powerful smartphone with advanced camera features. It has a 6.1-inch display, 128GB storage, a 12MP dual camera, and supports 5G connectivity. The SmartX ProPhone is priced at $899.99 and comes with a 1-year warranty.\\n\\nThe FotoSnap DSLR Camera is a versatile camera that allows you to capture stunning photos and videos. It features a 24.2MP sensor, 1080p video recording, a 3-inch LCD screen, and supports interchangeable lenses. The FotoSnap DSLR Camera is priced at $599.99 and also comes with a 1-year warranty.\\n\\nAs for TVs and TV-related products, we have a range of options available. Some of our popular TV models include the CineView 4K TV, CineView 8K TV, and CineView OLED TV. We also offer home theater systems like the SoundMax Home Theater and SoundMax Soundbar. Each product has its own unique features and price points. Is there a specific TV or TV-related product you are interested in?'"
            ],
            "execution_count": null,
            "outputs": []
        },
        {
            "cell_type": "markdown",
            "metadata": {},
            "source": [
                "# Evaluation\n",
                "\n",
                "Evaluate the LLM's answer to the user with a rubric, based on the extracted product information\n",
                "\n",
                "## Customer message and product info\n"
            ]
        },
        {
            "cell_type": "code",
            "metadata": {},
            "source": [
                "cust_prod_info = {\n",
                "    'customer_msg': customer_msg,\n",
                "    'context': product_info\n",
                "}"
            ],
            "execution_count": null,
            "outputs": []
        },
        {
            "cell_type": "markdown",
            "metadata": {},
            "source": [
                "## Helper function: Evaluation with rubric"
            ]
        },
        {
            "cell_type": "code",
            "metadata": {},
            "source": [
                "def eval_with_rubric(test_set, assistant_answer):\n",
                "\n",
                "    cust_msg = test_set['customer_msg']\n",
                "    context = test_set['context']\n",
                "    completion = assistant_answer\n",
                "\n",
                "    system_message = \"\"\"\\\n",
                "    You are an assistant that evaluates how well the customer service agent \\\n",
                "    answers a user question by looking at the context that the customer service \\\n",
                "    agent is using to generate its response. \n",
                "    \"\"\"\n",
                "\n",
                "    user_message = f\"\"\"\\\n",
                "You are evaluating a submitted answer to a question based on the context \\\n",
                "that the agent uses to answer the question.\n",
                "Here is the data:\n",
                "    [BEGIN DATA]\n",
                "    ************\n",
                "    [Question]: {cust_msg}\n",
                "    ************\n",
                "    [Context]: {context}\n",
                "    ************\n",
                "    [Submission]: {completion}\n",
                "    ************\n",
                "    [END DATA]\n",
                "\n",
                "Compare the factual content of the submitted answer with the context. \\\n",
                "Ignore any differences in style, grammar, or punctuation.\n",
                "Answer the following questions:\n",
                "    - Is the Assistant response based only on the context provided? (Y or N)\n",
                "    - Does the answer include information that is not provided in the context? (Y or N)\n",
                "    - Is there any disagreement between the response and the context? (Y or N)\n",
                "    - Count how many questions the user asked. (output a number)\n",
                "    - For each question that the user asked, is there a corresponding answer to it?\n",
                "      Question 1: (Y or N)\n",
                "      Question 2: (Y or N)\n",
                "      ...\n",
                "      Question N: (Y or N)\n",
                "    - Of the number of questions asked, how many of these questions were addressed by the answer? (output a number)\n",
                "\"\"\"\n",
                "\n",
                "    messages = [\n",
                "        {'role': 'system', 'content': system_message},\n",
                "        {'role': 'user', 'content': user_message}\n",
                "    ]\n",
                "\n",
                "    response = get_completion_from_messages(messages)\n",
                "    return response\n"
            ],
            "execution_count": null,
            "outputs": []
        },
        {
            "cell_type": "markdown",
            "metadata": {},
            "source": [
                "## Output"
            ]
        },
        {
            "cell_type": "code",
            "metadata": {
                "output-location": "fragment"
            },
            "source": [
                "evaluation_output = eval_with_rubric(cust_prod_info, assistant_answer)\n",
                "print(evaluation_output)"
            ],
            "execution_count": null,
            "outputs": []
        },
        {
            "cell_type": "markdown",
            "metadata": {},
            "source": [
                "## Ideal test set answer {.smaller}\n",
                "\n",
                "Evaluate the LLM's answer to the user based on an \"ideal\" / \"expert\" (human generated) answer."
            ]
        },
        {
            "cell_type": "code",
            "metadata": {},
            "source": [
                "test_set_ideal = {\n",
                "    'customer_msg': \"\"\"\\\n",
                "tell me about the smartx pro phone and the fotosnap camera, the dslr one.\n",
                "Also, what TVs or TV related products do you have?\"\"\",\n",
                "    'ideal_answer': \"\"\"\\\n",
                "Of course!  The SmartX ProPhone is a powerful \\\n",
                "smartphone with advanced camera features. \\\n",
                "For instance, it has a 12MP dual camera. \\\n",
                "Other features include 5G wireless and 128GB storage. \\\n",
                "It also has a 6.1-inch display.  The price is $899.99.\n",
                "\n",
                "The FotoSnap DSLR Camera is great for \\\n",
                "capturing stunning photos and videos. \\\n",
                "Some features include 1080p video, \\\n",
                "3-inch LCD, a 24.2MP sensor, \\\n",
                "and interchangeable lenses. \\\n",
                "The price is 599.99.\n",
                "\n",
                "For TVs and TV related products, we offer 3 TVs \\\n",
                "\n",
                "\n",
                "All TVs offer HDR and Smart TV.\n",
                "\n",
                "The CineView 4K TV has vibrant colors and smart features. \\\n",
                "Some of these features include a 55-inch display, \\\n",
                "'4K resolution. It's priced at 599.\n",
                "\n",
                "The CineView 8K TV is a stunning 8K TV. \\\n",
                "Some features include a 65-inch display and \\\n",
                "8K resolution.  It's priced at 2999.99\n",
                "\n",
                "The CineView OLED TV lets you experience vibrant colors. \\\n",
                "Some features include a 55-inch display and 4K resolution. \\\n",
                "It's priced at 1499.99.\n",
                "\n",
                "We also offer 2 home theater products, both which include bluetooth.\\\n",
                "The SoundMax Home Theater is a powerful home theater system for \\\n",
                "an immmersive audio experience.\n",
                "Its features include 5.1 channel, 1000W output, and wireless subwoofer.\n",
                "It's priced at 399.99.\n",
                "\n",
                "The SoundMax Soundbar is a sleek and powerful soundbar.\n",
                "It's features include 2.1 channel, 300W output, and wireless subwoofer.\n",
                "It's priced at 199.99\n",
                "\n",
                "Are there any questions additional you may have about these products \\\n",
                "that you mentioned here?\n",
                "Or may do you have other questions I can help you with?\n",
                "    \"\"\"\n",
                "}"
            ],
            "execution_count": null,
            "outputs": []
        },
        {
            "cell_type": "markdown",
            "metadata": {},
            "source": [
                "## Evaluation prompt\n",
                "\n",
                "- Check if the LLM's response agrees with or disagrees with the expert answer\n",
                "\n",
                "- This evaluation prompt is from the [OpenAI evals](https://github.com/openai/evals/blob/main/evals/registry/modelgraded/fact.yaml) project.\n",
                "\n",
                "## Helper function: Evaluate vs ideal {.smaller}"
            ]
        },
        {
            "cell_type": "code",
            "metadata": {},
            "source": [
                "def eval_vs_ideal(test_set, assistant_answer):\n",
                "\n",
                "    cust_msg = test_set['customer_msg']\n",
                "    ideal = test_set['ideal_answer']\n",
                "    completion = assistant_answer\n",
                "\n",
                "    system_message = \"\"\"\\\n",
                "    You are an assistant that evaluates how well the customer service agent \\\n",
                "    answers a user question by comparing the response to the ideal (expert) response\n",
                "    Output a single letter and nothing else. \n",
                "    \"\"\"\n",
                "\n",
                "    user_message = f\"\"\"\\\n",
                "You are comparing a submitted answer to an expert answer on a given question. Here is the data:\n",
                "    [BEGIN DATA]\n",
                "    ************\n",
                "    [Question]: {cust_msg}\n",
                "    ************\n",
                "    [Expert]: {ideal}\n",
                "    ************\n",
                "    [Submission]: {completion}\n",
                "    ************\n",
                "    [END DATA]\n",
                "\n",
                "Compare the factual content of the submitted answer with the expert answer. Ignore any differences in style, grammar, or punctuation.\n",
                "    The submitted answer may either be a subset or superset of the expert answer, or it may conflict with it. Determine which case applies. Answer the question by selecting one of the following options:\n",
                "    (A) The submitted answer is a subset of the expert answer and is fully consistent with it.\n",
                "    (B) The submitted answer is a superset of the expert answer and is fully consistent with it.\n",
                "    (C) The submitted answer contains all the same details as the expert answer.\n",
                "    (D) There is a disagreement between the submitted answer and the expert answer.\n",
                "    (E) The answers differ, but these differences don't matter from the perspective of factuality.\n",
                "  choice_strings: ABCDE\n",
                "\"\"\"\n",
                "\n",
                "    messages = [\n",
                "        {'role': 'system', 'content': system_message},\n",
                "        {'role': 'user', 'content': user_message}\n",
                "    ]\n",
                "\n",
                "    response = get_completion_from_messages(messages)\n",
                "    return response\n"
            ],
            "execution_count": null,
            "outputs": []
        },
        {
            "cell_type": "markdown",
            "metadata": {},
            "source": [
                "## Assistant answer 1"
            ]
        },
        {
            "cell_type": "code",
            "metadata": {
                "output-location": "fragment"
            },
            "source": [
                "print(assistant_answer)"
            ],
            "execution_count": null,
            "outputs": []
        },
        {
            "cell_type": "markdown",
            "metadata": {},
            "source": [
                "## Evaluation of assistant answer"
            ]
        },
        {
            "cell_type": "code",
            "metadata": {},
            "source": [
                "eval_vs_ideal(test_set_ideal, assistant_answer)"
            ],
            "execution_count": null,
            "outputs": []
        },
        {
            "cell_type": "markdown",
            "metadata": {},
            "source": [
                "## Assistant answer 2"
            ]
        },
        {
            "cell_type": "code",
            "metadata": {},
            "source": [
                "assistant_answer_2 = \"Learning to program ChatGPT in Python: where you ask a machine how to teach it to talk, and hope it does not get smarter than you! 💬🐍\""
            ],
            "execution_count": null,
            "outputs": []
        },
        {
            "cell_type": "markdown",
            "metadata": {},
            "source": [
                "## Evaluation of assistant answer 2"
            ]
        },
        {
            "cell_type": "code",
            "metadata": {},
            "source": [
                "eval_vs_ideal(test_set_ideal, assistant_answer_2)"
            ],
            "execution_count": null,
            "outputs": []
        },
        {
            "cell_type": "markdown",
            "metadata": {},
            "source": [
                "# What's next? {background-image=\"../images/logo.png\" background-opacity=\"0.5\"}\n",
                "\n",
                "**Congratulations! You have completed this tutorial** 👍\n",
                "\n",
                "\n",
                "**Next, you may want to go back to the [lab's website](https://kirenz.github.io/lab-chat-system/)**\n"
            ]
        }
    ],
    "metadata": {
        "kernelspec": {
            "name": "python3",
            "language": "python",
            "display_name": "Python 3 (ipykernel)"
        }
    },
    "nbformat": 4,
    "nbformat_minor": 4
}