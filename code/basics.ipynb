{
    "cells": [
        {
            "cell_type": "markdown",
            "metadata": {},
            "source": [
                "# Tokens and Chat Format\n",
                "\n",
                "# Setup\n",
                "\n",
                "## Python\n"
            ]
        },
        {
            "cell_type": "code",
            "metadata": {},
            "source": [
                "import os\n",
                "import openai\n",
                "import tiktoken  # tokenizer\n",
                "from dotenv import load_dotenv, find_dotenv\n",
                "_ = load_dotenv(find_dotenv())  # read local .env file\n",
                "\n",
                "openai.api_key = os.environ['OPENAI_API_KEY']"
            ],
            "execution_count": null,
            "outputs": []
        },
        {
            "cell_type": "markdown",
            "metadata": {},
            "source": [
                "## Helper function\n"
            ]
        },
        {
            "cell_type": "code",
            "metadata": {},
            "source": [
                "def get_completion(prompt, model=\"gpt-3.5-turbo\"):\n",
                "    messages = [{\"role\": \"user\", \"content\": prompt}]\n",
                "    response = openai.ChatCompletion.create(\n",
                "        model=model,\n",
                "        messages=messages,\n",
                "        temperature=0,\n",
                "    )\n",
                "    return response.choices[0].message[\"content\"]\n"
            ],
            "execution_count": null,
            "outputs": []
        },
        {
            "cell_type": "markdown",
            "metadata": {},
            "source": [
                "# Basic Completion\n",
                "\n",
                "## Example prompt\n",
                "\n",
                "- Prompt the model and get a completion\n",
                "\n",
                " "
            ]
        },
        {
            "cell_type": "code",
            "metadata": {},
            "source": [
                "response = get_completion(\"What is the capital of Germany?\")"
            ],
            "execution_count": null,
            "outputs": []
        },
        {
            "cell_type": "markdown",
            "metadata": {},
            "source": [
                ""
            ]
        },
        {
            "cell_type": "code",
            "metadata": {
                "output-location": "fragment"
            },
            "source": [
                "print(response)"
            ],
            "execution_count": null,
            "outputs": []
        },
        {
            "cell_type": "markdown",
            "metadata": {},
            "source": [
                "# Tokens\n",
                "\n",
                "## Intuition\n",
                "\n",
                "![](../images/tokens.png)\n",
                "\n",
                "## What is a token?\n",
                "\n",
                "- The GPT family of models process text using *tokens*\n",
                "- Tokens are common sequences of characters found in text\n",
                "- The models understand the statistical relationships between these tokens, and excel at producing the next token in a sequence of tokens.\n",
                "\n",
                "## How long is a token?\n",
                "\n",
                "- One token generally corresponds to ~4 characters of text \n",
                "- This translates to roughly ¾ of a word (so 100 tokens ~= 75 words).\n",
                "\n",
                "## Tokens vs words\n",
                "\n",
                "- \"lollipop\" in reverse should be \"popillol\"\n",
                "\n",
                ""
            ]
        },
        {
            "cell_type": "code",
            "metadata": {
                "output-location": "fragment"
            },
            "source": [
                "response = get_completion(\"Take the letters in lollipop \\\n",
                "and reverse them\")\n",
                "print(response)"
            ],
            "execution_count": null,
            "outputs": []
        },
        {
            "cell_type": "markdown",
            "metadata": {},
            "source": [
                "## Create single tokens"
            ]
        },
        {
            "cell_type": "code",
            "metadata": {
                "output-location": "fragment"
            },
            "source": [
                "response = get_completion(\"\"\"Take the letters in \\\n",
                "l-o-l-l-i-p-o-p and reverse them\"\"\")"
            ],
            "execution_count": null,
            "outputs": []
        },
        {
            "cell_type": "markdown",
            "metadata": {},
            "source": [
                ""
            ]
        },
        {
            "cell_type": "code",
            "metadata": {
                "output-location": "fragment"
            },
            "source": [
                "response"
            ],
            "execution_count": null,
            "outputs": []
        },
        {
            "cell_type": "markdown",
            "metadata": {},
            "source": [
                "# Chat Format\n",
                "\n",
                "## Helper function (chat format)\n",
                "\n",
                "- Helper function for chat format\n",
                "\n",
                ""
            ]
        },
        {
            "cell_type": "code",
            "metadata": {},
            "source": [
                "def get_completion_from_messages(messages,\n",
                "                                 model=\"gpt-3.5-turbo\",\n",
                "                                 temperature=0,\n",
                "                                 max_tokens=500):\n",
                "    response = openai.ChatCompletion.create(\n",
                "        model=model,\n",
                "        messages=messages,\n",
                "        temperature=temperature,  # this is the degree of randomness of the model's output\n",
                "        max_tokens=max_tokens,  # the maximum number of tokens the model can ouptut\n",
                "    )\n",
                "    return response.choices[0].message[\"content\"]\n"
            ],
            "execution_count": null,
            "outputs": []
        },
        {
            "cell_type": "markdown",
            "metadata": {},
            "source": [
                "## Sokrates & happy HdM students 😊"
            ]
        },
        {
            "cell_type": "code",
            "metadata": {},
            "source": [
                "messages = [\n",
                "    {'role': 'system',  # overall tone/behavior of assistant\n",
                "     'content': \"\"\"You are an assistant who\\\n",
                " responds in the style of Sokrates.\"\"\"},\n",
                "    {'role': 'user',\n",
                "        'content': \"\"\"write me a very short poem\\\n",
                " about a happy student at Hochschule der Medien Stuttgart \"\"\"},\n",
                "]"
            ],
            "execution_count": null,
            "outputs": []
        },
        {
            "cell_type": "markdown",
            "metadata": {},
            "source": [
                "## Response"
            ]
        },
        {
            "cell_type": "code",
            "metadata": {
                "output-location": "fragment"
            },
            "source": [
                "response = get_completion_from_messages(messages, temperature=1)\n",
                "print(response)"
            ],
            "execution_count": null,
            "outputs": []
        },
        {
            "cell_type": "markdown",
            "metadata": {},
            "source": [
                "## One sentence output"
            ]
        },
        {
            "cell_type": "code",
            "metadata": {},
            "source": [
                "messages = [\n",
                "    {'role': 'system',\n",
                "     'content': 'All your responses must be \\\n",
                "one sentence long.'},\n",
                "    {'role': 'user',\n",
                "     'content': 'write me a very short poem\\\n",
                " about a happy student at Hochschule der Medien Stuttgart'},\n",
                "]"
            ],
            "execution_count": null,
            "outputs": []
        },
        {
            "cell_type": "markdown",
            "metadata": {},
            "source": [
                "## Response"
            ]
        },
        {
            "cell_type": "code",
            "metadata": {
                "output-location": "fragment"
            },
            "source": [
                "response = get_completion_from_messages(messages, temperature=1)\n",
                "print(response)"
            ],
            "execution_count": null,
            "outputs": []
        },
        {
            "cell_type": "markdown",
            "metadata": {},
            "source": [
                "## Sokrates in one sentence"
            ]
        },
        {
            "cell_type": "code",
            "metadata": {
                "output-location": "fragment"
            },
            "source": [
                "# combined\n",
                "messages = [\n",
                "    {'role': 'system',\n",
                "     'content': \"\"\"You are an assistant who \\\n",
                "responds in the style of Sokrates. \\\n",
                "All your responses must be one sentence long.\"\"\"},\n",
                "    {'role': 'user',\n",
                "     'content': \"\"\"write me a very short poem\\\n",
                " about a happy student at Hochschule der Medien Stuttgart\"\"\"},\n",
                "]"
            ],
            "execution_count": null,
            "outputs": []
        },
        {
            "cell_type": "markdown",
            "metadata": {},
            "source": [
                "## Response"
            ]
        },
        {
            "cell_type": "code",
            "metadata": {
                "output-location": "fragment"
            },
            "source": [
                "response = get_completion_from_messages(messages, temperature=1)\n",
                "print(response)"
            ],
            "execution_count": null,
            "outputs": []
        },
        {
            "cell_type": "markdown",
            "metadata": {},
            "source": [
                "# Token Count\n",
                "\n",
                "## tiktoken\n",
                "\n",
                "- [tiktoken](https://github.com/openai/tiktoken) is a fast open-source tokenizer by OpenAI.\n",
                "- Given a text string (e.g., \"tiktoken is great!\") and an *encoding* (e.g., \"cl100k_base\"), a tokenizer can split the text string into a list of tokens (e.g., [\"t\", \"ik\", \"token\", \" is\", \" great\", \"!\"]).\n",
                "- Encodings specify how text is converted into tokens. \n",
                "- Different models use different encodings.\n",
                "\n",
                "\n",
                "\n",
                "## Helper function {.smaller}\n",
                "\n",
                "- Show how many tokens you are using"
            ]
        },
        {
            "cell_type": "code",
            "metadata": {},
            "source": [
                "def get_completion_and_token_count(messages,\n",
                "                                   model=\"gpt-3.5-turbo\",\n",
                "                                   temperature=0,\n",
                "                                   max_tokens=500):\n",
                "\n",
                "    response = openai.ChatCompletion.create(\n",
                "        model=model,\n",
                "        messages=messages,\n",
                "        temperature=temperature,\n",
                "        max_tokens=max_tokens,\n",
                "    )\n",
                "\n",
                "    content = response.choices[0].message[\"content\"]\n",
                "\n",
                "    token_dict = {\n",
                "        'prompt_tokens': response['usage']['prompt_tokens'],\n",
                "        'completion_tokens': response['usage']['completion_tokens'],\n",
                "        'total_tokens': response['usage']['total_tokens'],\n",
                "    }\n",
                "\n",
                "    return content, token_dict\n"
            ],
            "execution_count": null,
            "outputs": []
        },
        {
            "cell_type": "markdown",
            "metadata": {},
            "source": [
                "## Example prompt"
            ]
        },
        {
            "cell_type": "code",
            "metadata": {},
            "source": [
                "messages = [\n",
                "    {'role': 'system',  # overall tone/behavior of assistant\n",
                "     'content': \"\"\"You are an assistant who\\\n",
                " responds in the style of Sokrates.\"\"\"},\n",
                "    {'role': 'user',\n",
                "        'content': \"\"\"write me a very short poem\\\n",
                " about a happy student at Hochschule der Medien Stuttgart \"\"\"},\n",
                "]\n",
                "\n",
                "response, token_dict = get_completion_and_token_count(messages)"
            ],
            "execution_count": null,
            "outputs": []
        },
        {
            "cell_type": "markdown",
            "metadata": {},
            "source": [
                "## Response "
            ]
        },
        {
            "cell_type": "code",
            "metadata": {
                "output-location": "fragment"
            },
            "source": [
                "print(response)"
            ],
            "execution_count": null,
            "outputs": []
        },
        {
            "cell_type": "markdown",
            "metadata": {},
            "source": [
                "## Token count"
            ]
        },
        {
            "cell_type": "code",
            "metadata": {
                "output-location": "fragment"
            },
            "source": [
                "print(token_dict)"
            ],
            "execution_count": null,
            "outputs": []
        }
    ],
    "metadata": {
        "kernelspec": {
            "name": "python3",
            "language": "python",
            "display_name": "Python 3 (ipykernel)"
        }
    },
    "nbformat": 4,
    "nbformat_minor": 4
}